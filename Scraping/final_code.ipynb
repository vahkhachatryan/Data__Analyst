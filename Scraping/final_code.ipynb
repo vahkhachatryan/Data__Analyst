{
 "cells": [
  {
   "cell_type": "code",
   "execution_count": null,
   "id": "ba321594-ba53-4c9a-8611-8ee44c6275e6",
   "metadata": {},
   "outputs": [],
   "source": [
    "def extract_phone_name(user_input, phones):\n",
    "    user_input_words = user_input.lower().split()\n",
    "    \n",
    "    for phone in phones:\n",
    "        phone_words = phone.lower().split()\n",
    "        \n",
    "        if any(word in phone_words for word in user_input_words):\n",
    "            return phone\n",
    "    \n",
    "    return None\n"
   ]
  },
  {
   "cell_type": "code",
   "execution_count": null,
   "id": "dd1b413b-9700-434a-a8ab-63b8253aadf5",
   "metadata": {},
   "outputs": [
    {
     "name": "stdout",
     "output_type": "stream",
     "text": [
      "How can I help you?  iphone 13\n"
     ]
    },
    {
     "name": "stdout",
     "output_type": "stream",
     "text": [
      "\n",
      "==================================================\n",
      "Phone Name: iPhone 13 - 128GB - Network Locked - Pre-Owned Very Good Condition\n",
      "==================================================\n",
      "Summary:\n",
      "--------------------------------------------------\n",
      "Overall, the reviews for the iPhone 13 - 128GB - Network Locked - Pre-Owned Very Good Condition are positive. Users have praised its high-quality camera, fast performance, and sleek design. Some customers have noted that the network lock can be a drawback for those looking to switch carriers. \n",
      "\n",
      "Advantages:\n",
      "1. High-quality camera\n",
      "2. Fast performance\n",
      "3. Sleek design\n",
      "==================================================\n"
     ]
    }
   ],
   "source": [
    "#import openai\n",
    "#import pandas as pd\n",
    "#from fuzzywuzzy import fuzz\n",
    "\n",
    "#openai.api_key = 'Set your OpenAI API key'\n",
    "\n",
    "def read_feedback_data(file_path):\n",
    "    try:\n",
    "        return pd.read_csv(file_path)\n",
    "    except FileNotFoundError:\n",
    "        print(f\"File not found: {file_path}\")\n",
    "        return None\n",
    "    except pd.errors.EmptyDataError:\n",
    "        print(\"The CSV file is empty.\")\n",
    "        return None\n",
    "\n",
    "def extract_phone_name(user_input, phones):\n",
    "    user_input_lower = user_input.lower()\n",
    "    threshold = 70  \n",
    "    best_match = None\n",
    "    best_score = 0\n",
    "    \n",
    "    for phone in phones:\n",
    "        score = fuzz.partial_ratio(user_input_lower, phone.lower())\n",
    "        if score > threshold and score > best_score:\n",
    "            best_match = phone\n",
    "            best_score = score\n",
    "    \n",
    "    return best_match\n",
    "\n",
    "def get_summarization(phone_name):\n",
    "    if not phone_name:\n",
    "        return 'No phone selected'\n",
    "    \n",
    "    try:\n",
    "        response = openai.ChatCompletion.create(\n",
    "            model='gpt-3.5-turbo',  \n",
    "            messages=[\n",
    "                {\"role\": \"system\", \"content\": \"You are a helpful assistant who summarizes reviews for each phone and give me summary and 3 andvantages\"},\n",
    "                {\"role\": \"user\", \"content\": f\"Summarize the reviews for the phone: {phone_name}.\"}\n",
    "            ]\n",
    "        )\n",
    "        \n",
    "        \n",
    "       \n",
    "        \n",
    "        summarization = response['choices'][0]['message']['content']\n",
    "        return summarization\n",
    "    except Exception as e:\n",
    "        print(f\"An error occurred: {str(e)}\")\n",
    "        return f\"An error occurred during summarization: {str(e)}\"\n",
    "\n",
    "def ai_assistant(user_input, phones):\n",
    "    phone_name = extract_phone_name(user_input, phones)\n",
    "    summarization = get_summarization(phone_name)\n",
    "    return {\"Summary\": summarization, \"Phone Name\": phone_name}\n",
    "\n",
    "def display_result(result):\n",
    "    if result.get(\"Phone Name\") and result.get(\"Summary\"):\n",
    "        print(\"\\n\" + \"=\"*50)\n",
    "        print(f\"Phone Name: {result['Phone Name']}\")\n",
    "        print(\"=\"*50)\n",
    "        print(\"Summary:\")\n",
    "        print(\"-\" * 50)\n",
    "        print(f\"{result['Summary']}\")\n",
    "        print(\"=\" * 50)\n",
    "    else:\n",
    "        print(\"No valid phone name found or no summary generated.\")\n",
    "\n",
    "user_input = input(\"How can I help you? \")\n",
    "file_path = \"phone info (1).csv\"  \n",
    "feedback_data = read_feedback_data(file_path)\n",
    "\n",
    "if feedback_data is not None:\n",
    "    phones = feedback_data['Title'].unique()  \n",
    "    result = ai_assistant(user_input, phones)\n",
    "    display_result(result)\n",
    "else:\n",
    "    print(\"Could not read feedback data.\")"
   ]
  },
  {
   "cell_type": "code",
   "execution_count": null,
   "id": "d0e889c8-e14a-470e-885e-03a00c7ad7e3",
   "metadata": {},
   "outputs": [],
   "source": []
  }
 ],
 "metadata": {
  "kernelspec": {
   "display_name": "Python 3 (ipykernel)",
   "language": "python",
   "name": "python3"
  },
  "language_info": {
   "codemirror_mode": {
    "name": "ipython",
    "version": 3
   },
   "file_extension": ".py",
   "mimetype": "text/x-python",
   "name": "python",
   "nbconvert_exporter": "python",
   "pygments_lexer": "ipython3",
   "version": "3.11.7"
  }
 },
 "nbformat": 4,
 "nbformat_minor": 5
}
