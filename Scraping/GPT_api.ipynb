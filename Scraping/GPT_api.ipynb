{
 "cells": [
  {
   "cell_type": "code",
   "execution_count": 1,
   "id": "abf9afa1-4a6e-42b6-873e-4d8a00281511",
   "metadata": {},
   "outputs": [
    {
     "name": "stdout",
     "output_type": "stream",
     "text": [
      "Requirement already satisfied: openai==0.28 in c:\\users\\lianna\\anaconda4\\lib\\site-packages (0.28.0)\n",
      "Requirement already satisfied: requests>=2.20 in c:\\users\\lianna\\anaconda4\\lib\\site-packages (from openai==0.28) (2.31.0)\n",
      "Requirement already satisfied: tqdm in c:\\users\\lianna\\anaconda4\\lib\\site-packages (from openai==0.28) (4.65.0)\n",
      "Requirement already satisfied: aiohttp in c:\\users\\lianna\\anaconda4\\lib\\site-packages (from openai==0.28) (3.9.3)\n",
      "Requirement already satisfied: charset-normalizer<4,>=2 in c:\\users\\lianna\\anaconda4\\lib\\site-packages (from requests>=2.20->openai==0.28) (2.0.4)\n",
      "Requirement already satisfied: idna<4,>=2.5 in c:\\users\\lianna\\anaconda4\\lib\\site-packages (from requests>=2.20->openai==0.28) (3.4)\n",
      "Requirement already satisfied: urllib3<3,>=1.21.1 in c:\\users\\lianna\\anaconda4\\lib\\site-packages (from requests>=2.20->openai==0.28) (2.0.7)\n",
      "Requirement already satisfied: certifi>=2017.4.17 in c:\\users\\lianna\\anaconda4\\lib\\site-packages (from requests>=2.20->openai==0.28) (2024.2.2)\n",
      "Requirement already satisfied: aiosignal>=1.1.2 in c:\\users\\lianna\\anaconda4\\lib\\site-packages (from aiohttp->openai==0.28) (1.2.0)\n",
      "Requirement already satisfied: attrs>=17.3.0 in c:\\users\\lianna\\anaconda4\\lib\\site-packages (from aiohttp->openai==0.28) (24.2.0)\n",
      "Requirement already satisfied: frozenlist>=1.1.1 in c:\\users\\lianna\\anaconda4\\lib\\site-packages (from aiohttp->openai==0.28) (1.4.0)\n",
      "Requirement already satisfied: multidict<7.0,>=4.5 in c:\\users\\lianna\\anaconda4\\lib\\site-packages (from aiohttp->openai==0.28) (6.0.4)\n",
      "Requirement already satisfied: yarl<2.0,>=1.0 in c:\\users\\lianna\\anaconda4\\lib\\site-packages (from aiohttp->openai==0.28) (1.9.3)\n",
      "Requirement already satisfied: colorama in c:\\users\\lianna\\anaconda4\\lib\\site-packages (from tqdm->openai==0.28) (0.4.6)\n"
     ]
    }
   ],
   "source": [
    "!pip install openai==0.28"
   ]
  },
  {
   "cell_type": "code",
   "execution_count": 2,
   "id": "805e7109-c8d5-41c1-8148-b15d72096131",
   "metadata": {},
   "outputs": [
    {
     "name": "stdout",
     "output_type": "stream",
     "text": [
      "Requirement already satisfied: fuzzywuzzy[speedup] in c:\\users\\lianna\\anaconda4\\lib\\site-packages (0.18.0)\n",
      "Requirement already satisfied: python-levenshtein>=0.12 in c:\\users\\lianna\\anaconda4\\lib\\site-packages (from fuzzywuzzy[speedup]) (0.26.0)\n",
      "Requirement already satisfied: Levenshtein==0.26.0 in c:\\users\\lianna\\anaconda4\\lib\\site-packages (from python-levenshtein>=0.12->fuzzywuzzy[speedup]) (0.26.0)\n",
      "Requirement already satisfied: rapidfuzz<4.0.0,>=3.9.0 in c:\\users\\lianna\\anaconda4\\lib\\site-packages (from Levenshtein==0.26.0->python-levenshtein>=0.12->fuzzywuzzy[speedup]) (3.10.0)\n",
      "Note: you may need to restart the kernel to use updated packages.\n"
     ]
    }
   ],
   "source": [
    "pip install fuzzywuzzy[speedup]\n"
   ]
  },
  {
   "cell_type": "code",
   "execution_count": 3,
   "id": "ba321594-ba53-4c9a-8611-8ee44c6275e6",
   "metadata": {},
   "outputs": [],
   "source": [
    "def extract_phone_name(user_input, phones):\n",
    "    user_input_words = user_input.lower().split()\n",
    "    \n",
    "    # Iterate through each phone name\n",
    "    for phone in phones:\n",
    "        phone_words = phone.lower().split()\n",
    "        \n",
    "        # Check if any of the user input words are in the phone name words\n",
    "        if any(word in phone_words for word in user_input_words):\n",
    "            return phone\n",
    "    \n",
    "    # If no match, return None\n",
    "    return None\n"
   ]
  },
  {
   "cell_type": "code",
   "execution_count": 1,
   "id": "dd1b413b-9700-434a-a8ab-63b8253aadf5",
   "metadata": {},
   "outputs": [
    {
     "name": "stdin",
     "output_type": "stream",
     "text": [
      "How can I help you?  iphone 13\n"
     ]
    },
    {
     "name": "stdout",
     "output_type": "stream",
     "text": [
      "\n",
      "==================================================\n",
      "Phone Name: iPhone 13 - 128GB - Network Locked - Pre-Owned Very Good Condition\n",
      "==================================================\n",
      "Summary:\n",
      "--------------------------------------------------\n",
      "Overall, the reviews for the iPhone 13 - 128GB - Network Locked - Pre-Owned Very Good Condition are positive. Users have praised its high-quality camera, fast performance, and sleek design. Some customers have noted that the network lock can be a drawback for those looking to switch carriers. \n",
      "\n",
      "Advantages:\n",
      "1. High-quality camera\n",
      "2. Fast performance\n",
      "3. Sleek design\n",
      "==================================================\n"
     ]
    }
   ],
   "source": [
    "import openai\n",
    "import pandas as pd\n",
    "from fuzzywuzzy import fuzz\n",
    "\n",
    "# Set your OpenAI API key\n",
    "openai.api_key = 'sk-proj-kA9GfyXjrqh9lgY2ppr1T3BlbkFJxw1veilvpmfOhrvWocMT'\n",
    "\n",
    "def read_feedback_data(file_path):\n",
    "    try:\n",
    "        return pd.read_csv(file_path)\n",
    "    except FileNotFoundError:\n",
    "        print(f\"File not found: {file_path}\")\n",
    "        return None\n",
    "    except pd.errors.EmptyDataError:\n",
    "        print(\"The CSV file is empty.\")\n",
    "        return None\n",
    "\n",
    "# Fuzzy matching function for phone names\n",
    "def extract_phone_name(user_input, phones):\n",
    "    user_input_lower = user_input.lower()\n",
    "    threshold = 70  # Adjust the threshold for matching sensitivity\n",
    "    best_match = None\n",
    "    best_score = 0\n",
    "    \n",
    "    for phone in phones:\n",
    "        score = fuzz.partial_ratio(user_input_lower, phone.lower())\n",
    "        if score > threshold and score > best_score:\n",
    "            best_match = phone\n",
    "            best_score = score\n",
    "    \n",
    "    return best_match\n",
    "\n",
    "def get_summarization(phone_name):\n",
    "    if not phone_name:\n",
    "        return 'No phone selected'\n",
    "    \n",
    "    try:\n",
    "        response = openai.ChatCompletion.create(\n",
    "            model='gpt-3.5-turbo',  # or 'gpt-4'\n",
    "            messages=[\n",
    "                {\"role\": \"system\", \"content\": \"You are a helpful assistant who summarizes reviews for each phone and give me summary and 3 andvantages\"},\n",
    "                {\"role\": \"user\", \"content\": f\"Summarize the reviews for the phone: {phone_name}.\"}\n",
    "            ]\n",
    "        )\n",
    "        \n",
    "        # Log the full response for debugging purposes\n",
    "       \n",
    "        \n",
    "        summarization = response['choices'][0]['message']['content']\n",
    "        return summarization\n",
    "    except Exception as e:\n",
    "        print(f\"An error occurred: {str(e)}\")\n",
    "        return f\"An error occurred during summarization: {str(e)}\"\n",
    "\n",
    "def ai_assistant(user_input, phones):\n",
    "    phone_name = extract_phone_name(user_input, phones)\n",
    "    summarization = get_summarization(phone_name)\n",
    "    return {\"Summary\": summarization, \"Phone Name\": phone_name}\n",
    "\n",
    "def display_result(result):\n",
    "    if result.get(\"Phone Name\") and result.get(\"Summary\"):\n",
    "        # Pretty print the result\n",
    "        print(\"\\n\" + \"=\"*50)\n",
    "        print(f\"Phone Name: {result['Phone Name']}\")\n",
    "        print(\"=\"*50)\n",
    "        print(\"Summary:\")\n",
    "        print(\"-\" * 50)\n",
    "        print(f\"{result['Summary']}\")\n",
    "        print(\"=\" * 50)\n",
    "    else:\n",
    "        print(\"No valid phone name found or no summary generated.\")\n",
    "\n",
    "# Main execution\n",
    "user_input = input(\"How can I help you? \")\n",
    "file_path = \"phone info (1).csv\"  # Update with your actual file path\n",
    "feedback_data = read_feedback_data(file_path)\n",
    "\n",
    "if feedback_data is not None:\n",
    "    phones = feedback_data['Title'].unique()  # Adjust 'Title' to your actual column name\n",
    "    result = ai_assistant(user_input, phones)\n",
    "    display_result(result)\n",
    "else:\n",
    "    print(\"Could not read feedback data.\")"
   ]
  },
  {
   "cell_type": "code",
   "execution_count": null,
   "id": "d0e889c8-e14a-470e-885e-03a00c7ad7e3",
   "metadata": {},
   "outputs": [],
   "source": []
  }
 ],
 "metadata": {
  "kernelspec": {
   "display_name": "Python 3 (ipykernel)",
   "language": "python",
   "name": "python3"
  },
  "language_info": {
   "codemirror_mode": {
    "name": "ipython",
    "version": 3
   },
   "file_extension": ".py",
   "mimetype": "text/x-python",
   "name": "python",
   "nbconvert_exporter": "python",
   "pygments_lexer": "ipython3",
   "version": "3.11.7"
  }
 },
 "nbformat": 4,
 "nbformat_minor": 5
}
